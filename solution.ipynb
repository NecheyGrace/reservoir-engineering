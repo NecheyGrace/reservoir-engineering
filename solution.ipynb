{
 "cells": [
  {
   "cell_type": "markdown",
   "metadata": {},
   "source": [
    "#  This is a petroleum Engineering problem solved using a programming language - Python3 "
   ]
  },
  {
   "cell_type": "markdown",
   "metadata": {},
   "source": [
    "<b> Constant pressure drop between injection and production well is ∂p = 8.5Mpa. Thickness [h] = 50m, Φ = 30%, Soi = 0.8, Soi = 0.25, μ~o~ = 30cp, μw = 1.0cp, Bo= 1.2, absoulute permeability K = 100md, relative permeability to water at residual oil saturation = 0.19. relative permeability to oil at initial oil saturation = 0.88, production wellbore radius re = 0.5ft\n",
    "Es = 0.57 </b>\n",
    "###  <p><b> i.  Calculate the mobility ratio </b></p> \n",
    "### <p><b> ii.  Calculate the volume of oil in the reservoir </b></p>\n",
    "### <p><b>  iii. Calculate the recovery factor </b></p>"
   ]
  },
  {
   "cell_type": "code",
   "execution_count": 6,
   "metadata": {},
   "outputs": [
    {
     "name": "stdout",
     "output_type": "stream",
     "text": [
      "The mobility ratio of the solved example is  6.48\n"
     ]
    }
   ],
   "source": [
    "#formula for mobility ratio = Krw.μo/Kro.μw\n",
    "# writing a function that calculates mobility ratio\n",
    "# listing our parameters\n",
    "def mobilityratio(Krw, μo, Kro, μw ):\n",
    "    MR = (Krw * μo)/(Kro * μw)\n",
    "    return MR\n",
    "mr = float(mobilityratio(0.19,30,0.88,1))\n",
    "\n",
    "print('The mobility ratio of the solved example is ', \"%.2f\" % mr)"
   ]
  },
  {
   "cell_type": "code",
   "execution_count": 27,
   "metadata": {},
   "outputs": [
    {
     "name": "stdout",
     "output_type": "stream",
     "text": [
      "The height converted to feet from meters 164.04 ft\n",
      "The Area of the production wellbore radius 0.79 cm²\n",
      "The volume of wellbore 128.89013892857145 ft³\n",
      "The volume of oil in the reservoir is 25.78 ft³ and 4.59 in barrels.\n"
     ]
    }
   ],
   "source": [
    "# formula for volume of oil in the reservoir = Vb.Φ.(1 - Sw)/Boi = Vb.Φ.Soi/Boi\n",
    "#recall that Vb = Area * Height\n",
    "\n",
    "\n",
    "Height = 50\n",
    "# converting to feet\n",
    "Height*=3.2808399\n",
    "\n",
    "print('The height converted to feet from meters', \"%.2f\" % Height,'ft')\n",
    "\n",
    "\n",
    "# Calculating for Area\n",
    "r = 0.5\n",
    "pie = 22/7\n",
    "Area = pie * r**2\n",
    "print('The Area of the production wellbore radius', \"%.2f\" % Area,'cm\\u00b2')\n",
    "# Calculate for Vb\n",
    "Vb = Area * Height\n",
    "\n",
    "print('The volume of wellbore',Vb,'ft\\u00b3')\n",
    "\n",
    "# volume of oil in the reservoir\n",
    "\n",
    "\n",
    "def volumeofoil(Vb, Φ, Soi, Boi):\n",
    "    VOI = (Vb*Φ*Soi)/Boi\n",
    "    return VOI\n",
    "volume = float(volumeofoil(Vb, 0.3, 0.8, 1.2))\n",
    "Barrels = volume / 5.615\n",
    "print('The volume of oil in the reservoir is', \"%.2f\" % volume,'ft\\u00b3', 'and',\"%.2f\" % Barrels , 'in barrels.' )"
   ]
  },
  {
   "cell_type": "code",
   "execution_count": 43,
   "metadata": {},
   "outputs": [
    {
     "name": "stdout",
     "output_type": "stream",
     "text": [
      "The net volume of oil recovered is 1.799 in barrels\n",
      "The recovery factor is 0.39187499999999986 in barrels, and recovery efficiency is 39 in %\n"
     ]
    }
   ],
   "source": [
    "# formula for recovery factor = Net volume of oil recovered/volume of oil in the reservoir\n",
    "\n",
    "# Net volume of oil recovered = (Area * Height * Φ * (Soi - Sor) * EA) / 5.615 * Boi\n",
    "\n",
    "# recall Vb = Area * Height already gotten\n",
    "\n",
    "# Calculating for net present value of oil, Np\n",
    "\n",
    "EA = 0.57\n",
    "Sor = 0.25\n",
    "Soi = 0.8\n",
    "Boi = 1.2\n",
    "Φ = 0.3\n",
    "def Netvolumeofoil(Vb, Φ, Soi, Sor, EA, Boi):\n",
    "    Np = (Vb*Φ*(Soi-Sor)*EA)/(5.615 * Boi)\n",
    "    return Np\n",
    "Netvolume = float(Netvolumeofoil(Vb, Φ, Soi, Sor, EA, Boi))\n",
    "\n",
    "print('The net volume of oil recovered is',\"%.3f\" % Netvolume, 'in barrels')\n",
    "\n",
    "# calculating for recovery factor\n",
    "\n",
    "def recoveryfactor():\n",
    "    RF = Netvolume/Barrels\n",
    "    return RF\n",
    "recoveryFactor = float(recoveryfactor())\n",
    "recoveryEfficiency = recoveryFactor * 100\n",
    "print('The recovery factor is',recoveryFactor, 'in barrels, and recovery efficiency is',\"%.0f\" % recoveryEfficiency,'in percentage' )\n",
    "    \n",
    "    "
   ]
  },
  {
   "cell_type": "code",
   "execution_count": null,
   "metadata": {},
   "outputs": [],
   "source": []
  }
 ],
 "metadata": {
  "kernelspec": {
   "display_name": "Python 3",
   "language": "python",
   "name": "python3"
  },
  "language_info": {
   "codemirror_mode": {
    "name": "ipython",
    "version": 3
   },
   "file_extension": ".py",
   "mimetype": "text/x-python",
   "name": "python",
   "nbconvert_exporter": "python",
   "pygments_lexer": "ipython3",
   "version": "3.7.6"
  }
 },
 "nbformat": 4,
 "nbformat_minor": 4
}
